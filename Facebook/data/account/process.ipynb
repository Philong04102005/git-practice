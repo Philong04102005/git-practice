{
 "cells": [
  {
   "cell_type": "code",
   "execution_count": 8,
   "id": "1b68c54f",
   "metadata": {},
   "outputs": [],
   "source": [
    "import pandas as pd \n",
    "import numpy as np "
   ]
  },
  {
   "cell_type": "markdown",
   "id": "19c6b6f5",
   "metadata": {},
   "source": []
  },
  {
   "cell_type": "code",
   "execution_count": 9,
   "id": "54dba2fd",
   "metadata": {},
   "outputs": [],
   "source": [
    "friend = pd.read_csv(\"friends/friends_acc_3.csv\")"
   ]
  },
  {
   "cell_type": "code",
   "execution_count": 10,
   "id": "2abde01d",
   "metadata": {},
   "outputs": [
    {
     "data": {
      "text/html": [
       "<div>\n",
       "<style scoped>\n",
       "    .dataframe tbody tr th:only-of-type {\n",
       "        vertical-align: middle;\n",
       "    }\n",
       "\n",
       "    .dataframe tbody tr th {\n",
       "        vertical-align: top;\n",
       "    }\n",
       "\n",
       "    .dataframe thead th {\n",
       "        text-align: right;\n",
       "    }\n",
       "</style>\n",
       "<table border=\"1\" class=\"dataframe\">\n",
       "  <thead>\n",
       "    <tr style=\"text-align: right;\">\n",
       "      <th></th>\n",
       "      <th>name</th>\n",
       "      <th>link</th>\n",
       "    </tr>\n",
       "  </thead>\n",
       "  <tbody>\n",
       "    <tr>\n",
       "      <th>0</th>\n",
       "      <td>Nguyễn Minh Triều</td>\n",
       "      <td>https://www.facebook.com/nguyen.minh.trieu.776502</td>\n",
       "    </tr>\n",
       "    <tr>\n",
       "      <th>1</th>\n",
       "      <td>Đức Cảnh Bđs</td>\n",
       "      <td>https://www.facebook.com/uccanhbs.2025</td>\n",
       "    </tr>\n",
       "    <tr>\n",
       "      <th>2</th>\n",
       "      <td>Bđs Lê Minh Sáu</td>\n",
       "      <td>https://www.facebook.com/b.s.le.minh.sau</td>\n",
       "    </tr>\n",
       "    <tr>\n",
       "      <th>3</th>\n",
       "      <td>Nhà Đất Hóc Môn</td>\n",
       "      <td>https://www.facebook.com/song.tri.dung</td>\n",
       "    </tr>\n",
       "    <tr>\n",
       "      <th>4</th>\n",
       "      <td>Thế Vũ Bđs</td>\n",
       "      <td>https://www.facebook.com/the.vu.356218</td>\n",
       "    </tr>\n",
       "    <tr>\n",
       "      <th>...</th>\n",
       "      <td>...</td>\n",
       "      <td>...</td>\n",
       "    </tr>\n",
       "    <tr>\n",
       "      <th>82</th>\n",
       "      <td>Nhà Đất Dĩ An</td>\n",
       "      <td>https://www.facebook.com/nha.at.di.an.683945</td>\n",
       "    </tr>\n",
       "    <tr>\n",
       "      <th>83</th>\n",
       "      <td>Định BĐS Hà Nam</td>\n",
       "      <td>https://www.facebook.com/inhbshanam</td>\n",
       "    </tr>\n",
       "    <tr>\n",
       "      <th>84</th>\n",
       "      <td>Minh Nguyễn HomeStay Time City</td>\n",
       "      <td>https://www.facebook.com/minh.nguyen.homestay....</td>\n",
       "    </tr>\n",
       "    <tr>\n",
       "      <th>85</th>\n",
       "      <td>Đào Yến BĐS</td>\n",
       "      <td>https://www.facebook.com/yenhanahandmade</td>\n",
       "    </tr>\n",
       "    <tr>\n",
       "      <th>86</th>\n",
       "      <td>BĐS PHÚC AN</td>\n",
       "      <td>https://www.facebook.com/b.s.phuc.an.442977</td>\n",
       "    </tr>\n",
       "  </tbody>\n",
       "</table>\n",
       "<p>87 rows × 2 columns</p>\n",
       "</div>"
      ],
      "text/plain": [
       "                              name  \\\n",
       "0                Nguyễn Minh Triều   \n",
       "1                     Đức Cảnh Bđs   \n",
       "2                  Bđs Lê Minh Sáu   \n",
       "3                  Nhà Đất Hóc Môn   \n",
       "4                       Thế Vũ Bđs   \n",
       "..                             ...   \n",
       "82                   Nhà Đất Dĩ An   \n",
       "83                 Định BĐS Hà Nam   \n",
       "84  Minh Nguyễn HomeStay Time City   \n",
       "85                     Đào Yến BĐS   \n",
       "86                     BĐS PHÚC AN   \n",
       "\n",
       "                                                 link  \n",
       "0   https://www.facebook.com/nguyen.minh.trieu.776502  \n",
       "1              https://www.facebook.com/uccanhbs.2025  \n",
       "2            https://www.facebook.com/b.s.le.minh.sau  \n",
       "3              https://www.facebook.com/song.tri.dung  \n",
       "4              https://www.facebook.com/the.vu.356218  \n",
       "..                                                ...  \n",
       "82       https://www.facebook.com/nha.at.di.an.683945  \n",
       "83                https://www.facebook.com/inhbshanam  \n",
       "84  https://www.facebook.com/minh.nguyen.homestay....  \n",
       "85           https://www.facebook.com/yenhanahandmade  \n",
       "86        https://www.facebook.com/b.s.phuc.an.442977  \n",
       "\n",
       "[87 rows x 2 columns]"
      ]
     },
     "execution_count": 10,
     "metadata": {},
     "output_type": "execute_result"
    }
   ],
   "source": [
    "friend"
   ]
  },
  {
   "cell_type": "code",
   "execution_count": 11,
   "id": "65522f75",
   "metadata": {},
   "outputs": [],
   "source": [
    "friend[\"Message_Status\"] = False "
   ]
  },
  {
   "cell_type": "code",
   "execution_count": 12,
   "id": "8d945b84",
   "metadata": {},
   "outputs": [],
   "source": [
    "friend.to_csv(\"friends/friends_acc_3.csv\", index=False)"
   ]
  },
  {
   "cell_type": "code",
   "execution_count": null,
   "id": "fe0a8902",
   "metadata": {},
   "outputs": [],
   "source": []
  }
 ],
 "metadata": {
  "kernelspec": {
   "display_name": "seeding",
   "language": "python",
   "name": "python3"
  },
  "language_info": {
   "codemirror_mode": {
    "name": "ipython",
    "version": 3
   },
   "file_extension": ".py",
   "mimetype": "text/x-python",
   "name": "python",
   "nbconvert_exporter": "python",
   "pygments_lexer": "ipython3",
   "version": "3.11.13"
  }
 },
 "nbformat": 4,
 "nbformat_minor": 5
}
